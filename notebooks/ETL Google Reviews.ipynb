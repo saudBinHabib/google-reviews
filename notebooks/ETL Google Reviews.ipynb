{
 "cells": [
  {
   "cell_type": "code",
   "execution_count": null,
   "id": "89d5b1c0",
   "metadata": {},
   "outputs": [],
   "source": []
  },
  {
   "cell_type": "markdown",
   "id": "6a293955",
   "metadata": {},
   "source": [
    "# Processing the reviews files."
   ]
  },
  {
   "cell_type": "code",
   "execution_count": 1,
   "id": "64557ec0",
   "metadata": {},
   "outputs": [],
   "source": [
    "# imports\n",
    "import csv\n",
    "import glob\n",
    "import os\n",
    "\n",
    "from dataclasses import asdict, dataclass, field\n"
   ]
  },
  {
   "cell_type": "code",
   "execution_count": null,
   "id": "2f0b66f3",
   "metadata": {},
   "outputs": [],
   "source": []
  },
  {
   "cell_type": "markdown",
   "id": "df780d03",
   "metadata": {},
   "source": [
    "## Data model creating "
   ]
  },
  {
   "cell_type": "code",
   "execution_count": 2,
   "id": "75b3cbeb",
   "metadata": {},
   "outputs": [],
   "source": [
    "@dataclass(frozen=True)\n",
    "class Review:\n",
    "    reviewer_name: str = field()\n",
    "    review_time: str = field()\n",
    "    review: str = field(compare=False, hash=False)\n",
    "    rating: int = field()\n",
    "    reply: bool = field()\n",
    "    reply_text: str = field(compare=False, hash=False)\n",
    "    review_link: str = field()\n",
    "    "
   ]
  },
  {
   "cell_type": "code",
   "execution_count": null,
   "id": "86315340",
   "metadata": {},
   "outputs": [],
   "source": []
  },
  {
   "cell_type": "markdown",
   "id": "351e67df",
   "metadata": {},
   "source": [
    "## Getting list of all files"
   ]
  },
  {
   "cell_type": "code",
   "execution_count": 3,
   "id": "24c61d9e",
   "metadata": {},
   "outputs": [],
   "source": [
    "# get all text files, from a file path.\n",
    "\n",
    "def get_files(filepath: str) -> list:\n",
    "    \"\"\"\n",
    "    :param filepath: str \n",
    "    :return: list[str]\n",
    "    \"\"\"\n",
    "    all_files = []\n",
    "    for root, dirs, files in os.walk(filepath):\n",
    "        files = glob.glob(os.path.join(root,'*.txt'))\n",
    "        for f in files :\n",
    "            all_files.append(os.path.abspath(f))\n",
    "    \n",
    "    return all_files"
   ]
  },
  {
   "cell_type": "code",
   "execution_count": null,
   "id": "a23107ed",
   "metadata": {},
   "outputs": [],
   "source": []
  },
  {
   "cell_type": "markdown",
   "id": "1c347db1",
   "metadata": {},
   "source": [
    "## Read the file"
   ]
  },
  {
   "cell_type": "code",
   "execution_count": 4,
   "id": "c93e5e34",
   "metadata": {},
   "outputs": [],
   "source": [
    "def read_file(file_path: str)-> str:\n",
    "    \"\"\"\n",
    "\n",
    "    :param file_path:\n",
    "    :return:\n",
    "    \"\"\"\n",
    "    with open(file_path, 'r') as f:\n",
    "        data = f.read()\n",
    "    return data"
   ]
  },
  {
   "cell_type": "code",
   "execution_count": null,
   "id": "3772f6c8",
   "metadata": {},
   "outputs": [],
   "source": []
  },
  {
   "cell_type": "markdown",
   "id": "187c7356",
   "metadata": {},
   "source": [
    "## Process the data files."
   ]
  },
  {
   "cell_type": "code",
   "execution_count": 5,
   "id": "c3522786",
   "metadata": {},
   "outputs": [],
   "source": [
    "def process_data(text: str) -> list:\n",
    "    \"\"\"\n",
    "\n",
    "    :param text:\n",
    "    :return:\n",
    "    \"\"\"\n",
    "    data = text.split(',[[[')\n",
    "    data = [d for d in data]\n",
    "    data = data[1]\n",
    "    data = data.encode('utf-8').decode('unicode-escape')\n",
    "    data = data.split('==\"],[[')\n",
    "    data = [d.replace(']', '').replace('[', '').replace(',null', '').split(',') for d in data]\n",
    "    return data\n"
   ]
  },
  {
   "cell_type": "markdown",
   "id": "ca768125",
   "metadata": {},
   "source": [
    "## After processing multiple files, I found that there are multiple ways to find the information, which I needed.\n",
    "    \n",
    "      i) The reviewer name is always at 1st index.\n",
    "      ii) The review time is at 4th index.\n",
    "      iii) The review content starts at 5th index, and it can continue until the next index is not starting with space\n",
    "        or /n tag.\n",
    "      iv) The review rating is always at the next index of review content ending index.\n",
    "      v) The reply from owner is always at the 2nd next index of '\"Als unangemessen melden\"', So if we have that index\n",
    "        starting with '\"vor' which denotes it's the reply time information, then we mark the reply True else False\n",
    "      vi) The actual reply from the owner is always at the next index of the reply time stamp, and it follows the same\n",
    "        approach of using multiple index, so we can continue until the next index is not starting with space or /n tag.\n",
    "      vii) The review link is always starts with 'https://www.google.com/maps/reviews/data='.\n",
    "      \n",
    " ### Note: This defined order is only feasible with data processing, which I have done."
   ]
  },
  {
   "cell_type": "code",
   "execution_count": 6,
   "id": "6ac6f161",
   "metadata": {},
   "outputs": [],
   "source": [
    "# get process review \n",
    "\n",
    "def process_review(content: list) -> Review:\n",
    "    \"\"\"\n",
    "\n",
    "    :param content:\n",
    "    :return:\n",
    "    \"\"\"\n",
    "    \n",
    "    review_text = ''\n",
    "    reviewer_name = content[1]\n",
    "    review_time_information = content[4]\n",
    "    index = 5\n",
    "    while True:\n",
    "        review_text += content[index]\n",
    "        index += 1\n",
    "        if not (content[index].startswith(' ') or content[index].startswith('\\n')):\n",
    "            break\n",
    "    rating = content[index]\n",
    "    index = content.index('\"Als unangemessen melden\"')\n",
    "    index += 2\n",
    "    reply =  True if content[index].startswith('\"vor') else False\n",
    "    reply_content = ''\n",
    "    if reply:\n",
    "        index += 1\n",
    "        while True:\n",
    "            reply_content += content[index]\n",
    "            index += 1\n",
    "            if not (content[index].startswith(' ') or content[index].startswith('\\n')):\n",
    "                break\n",
    "    review_link = [a for a in content if 'https://www.google.com/maps/reviews/data=' in a]\n",
    "    review_link = review_link[0] if review_link else None\n",
    "    review = Review(\n",
    "        reviewer_name, review_time_information, review_text, rating, reply,\n",
    "        reply_content, review_link\n",
    "    )\n",
    "    return review"
   ]
  },
  {
   "cell_type": "code",
   "execution_count": null,
   "id": "41073072",
   "metadata": {},
   "outputs": [],
   "source": []
  },
  {
   "cell_type": "code",
   "execution_count": 7,
   "id": "fba072cd",
   "metadata": {},
   "outputs": [],
   "source": [
    "# files directory\n",
    "files_directory = '../files/input/'\n"
   ]
  },
  {
   "cell_type": "code",
   "execution_count": 8,
   "id": "b509c38c",
   "metadata": {},
   "outputs": [],
   "source": [
    "# get all text files name\n",
    "all_files = get_files(files_directory)"
   ]
  },
  {
   "cell_type": "code",
   "execution_count": 9,
   "id": "2cfba09e",
   "metadata": {},
   "outputs": [
    {
     "name": "stdout",
     "output_type": "stream",
     "text": [
      "33\n",
      "['/mnt/smb-d/testing/google-reviews/files/input/reviews_file_0.txt', '/mnt/smb-d/testing/google-reviews/files/input/reviews_file_1.txt', '/mnt/smb-d/testing/google-reviews/files/input/reviews_file_10.txt', '/mnt/smb-d/testing/google-reviews/files/input/reviews_file_11.txt', '/mnt/smb-d/testing/google-reviews/files/input/reviews_file_12.txt']\n"
     ]
    }
   ],
   "source": [
    "# checking number of files\n",
    "print(len(all_files))\n",
    "\n",
    "# checking top 5 files\n",
    "print(all_files[:5])"
   ]
  },
  {
   "cell_type": "code",
   "execution_count": 10,
   "id": "25144bf9",
   "metadata": {},
   "outputs": [],
   "source": [
    "# process 1 file\n",
    "\n",
    "data = read_file(all_files[0])\n",
    "\n",
    "#process the raw data.\n",
    "data = process_data(data)"
   ]
  },
  {
   "cell_type": "code",
   "execution_count": null,
   "id": "1823c93b",
   "metadata": {},
   "outputs": [],
   "source": []
  },
  {
   "cell_type": "code",
   "execution_count": 11,
   "id": "e18ed6b2",
   "metadata": {},
   "outputs": [],
   "source": [
    "# process the reviews.\n",
    "reviews_list = [process_review(reviewer) for reviewer in data]"
   ]
  },
  {
   "cell_type": "code",
   "execution_count": 12,
   "id": "90d4e33e",
   "metadata": {},
   "outputs": [
    {
     "data": {
      "text/plain": [
       "[Review(reviewer_name='\"Michelle Isenberg\"', review_time='\"vor 5 Monaten\"', review='\"Wir waren zu zweit fÃ¼r eine Nacht im Hotel und waren rundum zufrieden!\\nDas Zimmer ist wirklich extrem groÃ\\x9f sehr schÃ¶n eingerichtet und sauber.\\nIn vielen Bewertungen haben wir negatives Ã¼ber das FrÃ¼hstÃ¼ck gelesen - das konnten wir Ã¼berhaupt nicht nachvollziehen. Das FrÃ¼hstÃ¼ck war unser absolutes Highlight. Klein aber fein - QualitÃ¤t Ã¼ber QuantitÃ¤t.\\nEinzig das Personal wirkte etwas reserviert es waren aber auch viele ganz neue Mitarbeiter vor Ort die sicher erstmal ankommen mÃ¼ssen.\\nAlles in Allem ein wirklich toller Aufenthalt!\"', rating='5', reply=True, reply_text='\"Ohhhh Michelle du machst uns glÃ¼cklich mit deinem Feedback.\\nUnd du hast das richtig gesehen wir stellen unser Team - insbesondere an der Rezeption- grade neu zusammen. Alle hoch motiviert und offensichtlich konzentriert ;) danke fÃ¼r dein VerstÃ¤ndnis und wir freuen uns dich bald wieder begrÃ¼Ã\\x9fen zu dÃ¼rfen.\\n\\nHerzlichen GruÃ\\x9f aus dem Aspria\\nSandra Schmalzried\\nGeneral Manager\"', review_link='\"https://www.google.com/maps/reviews/data=!4m8!14m7!1m6!2m5!1sChZDSUhNMG9nS0VJQ0FnSURPODd2c0V3EAE!2m1!1s0x0:0x2faf0f02eacd864e!3m1!1s2@1:CIHM0ogKEICAgIDO87vsEw%7CCgsI6d-8lgYQ2KOUMw%7C?hl=de\"'),\n",
       " Review(reviewer_name='\"Karin Bugge\"', review_time='\"vor 2 Monaten\"', review='\"Ein sehr netter Empfang und die FÃ¼hrung durch das Fitness Studio war Ã¤uÃ\\x9ferst angenehm.\\nMeine Freundin und ich haben uns sofort entschlossen einen Vertrag abzuschlieÃ\\x9fen.\\nWir werden unser bestes geben um endlich fit zu werden.\"', rating='5', reply=True, reply_text='\"Wir freuen uns dass unser Service einen bleibenden guten Eindruck hinterlassen hat. Herzlich willkommen bei uns im Aspria\\nSandra Schmalzried\\nGeneral Manager\"', review_link='\"https://www.google.com/maps/reviews/data=!4m8!14m7!1m6!2m5!1sChZDSUhNMG9nS0VJQ0FnSURlXzdEd2ZnEAE!2m1!1s0x0:0x2faf0f02eacd864e!3m1!1s2@1:CIHM0ogKEICAgIDe_7Dwfg%7CCgwIv6TWmgYQ6OuTsQE%7C?hl=de\"'),\n",
       " Review(reviewer_name='\"Alina\"', review_time='\"vor 6 Monaten\"', review='\"Wir waren mit Baby (4 Monate) von Samstag auf Sonntag hier. Das FrÃ¼hstÃ¼ck war fÃ¼r den Preis eine Vollkatastrophe! Beim BÃ¤cker hÃ¤tte man besseres bekommen. Eine Frechheit!!! Wir fanden auch die Rezeption ziemlich Ã¼berfordert und es hat sehr lange gedauert. Die Klimaanlage ging im Zimmer nicht zur Nacht war es einfach unmÃ¶glich im Zimmer gerade auch mit Baby. Allgemein im Hotel war es sehr sehr schwÃ¼l. Kein Wasserkocher vorhanden. FÃ¼r mich keine 4 Sterne wert und leider nicht behinderten oder Kinderwagen gerecht!!!\"', rating='1', reply=True, reply_text='\"Hallo Alina erstmal danke fÃ¼r die Zeit uns eure EindrÃ¼cke zu schildern.\\nTut mir sehr leid dass wir mit unserem Fitness- und Wellness Hotel nicht wirklich euren Erwartungen gerecht werden konnten. Eure Punkte nehmen wir auf und prÃ¼fen diese gerne bzgl. OptimierungsmÃ¶glichkeiten.\\n\\nMit den besten GrÃ¼Ã\\x9fen\\nSandra Schmalzried\\nGeneral Manager\"', review_link='\"https://www.google.com/maps/reviews/data=!4m8!14m7!1m6!2m5!1sChdDSUhNMG9nS0VJQ0FnSURPaE1HLTB3RRAB!2m1!1s0x0:0x2faf0f02eacd864e!3m1!1s2@1:CIHM0ogKEICAgIDOhMG-0wE%7CCgwIy7_nlQYQsK7wrAM%7C?hl=de\"'),\n",
       " Review(reviewer_name='\"Ka Ba\"', review_time='\"vor 3 Monaten\"', review='\"Ich war das erste Mal dort. Sehr schÃ¶ne moderne Anlage nette Mitarbeiter top Fitnessbereich und die Massage war auch sehr gut. Alles in allem ein gutes Konzept und ein Ort den man aufsuchen kann wenn man mal eine Auszeit braucht. Das einzige Manko: es gibt nirgendwo die MÃ¶glichkeit mal an seiner E-Zigaretten zu ziehen:-)\"', rating='4', reply=True, reply_text='\"Ohhhhh wir machen uns schlau ob es hierfÃ¼r ne LÃ¶sung gibt.\\n\\nVielen Dank fÃ¼r das schÃ¶ne ausfÃ¼hrliche Feedback\\nSandra Schmalzried\\nGeneral Manager\\nAspria Berlin\"', review_link='\"https://www.google.com/maps/reviews/data=!4m8!14m7!1m6!2m5!1sChdDSUhNMG9nS0VJQ0FnSUNldGJHRTBnRRAB!2m1!1s0x0:0x2faf0f02eacd864e!3m1!1s2@1:CIHM0ogKEICAgICetbGE0gE%7CCgwI_KWlmQYQuI-mhwM%7C?hl=de\"'),\n",
       " Review(reviewer_name='\"Nici Theuerkauf\"', review_time='\"vor 2 Monaten\"', review='\"Es ist so schade alles fÃ¼r was dieser Club mal stand ist verloren. Es gab wirklich gute Lehrer und ein sagenhaftes Kursangebot jetzt ist es eher durchschnittlich. Das Publikum ist sehr proletenhaftâ\\x80¦. gaffende ekelige Typen die an sich herumspielen in der Saunaâ\\x80¦. Man wundert sich das dort trotz vieler Beschwerden nichts unternommen wird.\"', rating='1', reply=True, reply_text='\"Sehr geehrte Frau Theuerkauf wir nehmen Hinweise unserer Mitglieder und GÃ¤ste sehr ernst sobald es dem Mitgliederservice oder dem Management zugetragen wird bzw. zur Kenntnis gelangt. Saunameister sind vor Ort um direkte Beschwerden entgegen zu nehmen. Bisher wurde uns jedoch zu Ihren Beobachtungen noch keine RÃ¼ckmeldungen gegeben. Um agieren zu kÃ¶nnen benÃ¶tigen wir dringend mehr Informationen. Bitte wenden Sie sich doch an unseren Mitgliederservice hier im Club.\\n\\nWir danken fÃ¼r Ihre RÃ¼ckmeldung und bedauern es sehr dass der Club nicht mehr Ihren Erwartungen und Vorstellungen entspricht und Ihr Saunaaufenthalt gestÃ¶rt worden ist.\\n\\nHerzlichen Dank\\nSandra Schmalzried\\nGeneral Manager\"', review_link='\"https://www.google.com/maps/reviews/data=!4m8!14m7!1m6!2m5!1sChZDSUhNMG9nS0VJQ0FnSURla0l2c0NBEAE!2m1!1s0x0:0x2faf0f02eacd864e!3m1!1s2@1:CIHM0ogKEICAgIDekIvsCA%7CCgwIr-PWmQYQ8PCs5AE%7C?hl=de\"'),\n",
       " Review(reviewer_name='\"Sabine hamburg\"', review_time='\"vor 5 Monaten\"', review='\"Schwimmbad war in Renovierung  ich hatte aber auch deswegen das Hotel gebucht.  SpÃ¤terer Checkout wurde nicht weitergegeben  stattdessen erhielt ich einen unfreundlichen Anruf. Der Ausblick aus dem Zimmer: Verdrecktes Dach mit Zigarettenkippen. Das FrÃ¼hstÃ¼ck war ohne Abwechslung und das Personal an der Rezeption hÃ¤ufig nicht kompetent.  Bis auf die Nachtschicht am 10.07..\"', rating='2', reply=False, reply_text='', review_link='\"https://www.google.com/maps/reviews/data=!4m8!14m7!1m6!2m5!1sChdDSUhNMG9nS0VJQ0FnSURPaDhDTDBRRRAB!2m1!1s0x0:0x2faf0f02eacd864e!3m1!1s2@1:CIHM0ogKEICAgIDOh8CL0QE%7CCgsIhJ7FlgYQ0KjIAQ%7C?hl=de\"'),\n",
       " Review(reviewer_name='\"A S\"', review_time='\"vor 4 Monaten\"', review='\"Die Mitarbeiter an der Rezeption sind nicht sehr freundlich. Das eine Bett im Zimmer war nicht frisch als wir eingecheckt haben.\\nDie Handseife war leer. Die KosmetiktÃ¼cher wurden obwohl sie leer waren nicht aufgefÃ¼llt.\\nBodenbelag Teppich. Die Klimaanlage funktioniert meiner Meinung nach nicht sehr effizient.\\nAls Hotelgast hatte ich hier Zugang zum Fitnessstudio. Ich war enttÃ¤uscht. Fitnessbereich nicht klimatisiert. Die Dachterasse nicht so grÃ¼n und schÃ¶n wie auf der Webseite. Nicht sehr zum WohlfÃ¼hlen. Saunabereich ist gross.  Cafe im 5.Stock fast nie besetzt.\"', rating='2', reply=False, reply_text='', review_link='\"https://www.google.com/maps/reviews/data=!4m8!14m7!1m6!2m5!1sChZDSUhNMG9nS0VJQ0FnSUR1a1lTZkZ3EAE!2m1!1s0x0:0x2faf0f02eacd864e!3m1!1s2@1:CIHM0ogKEICAgIDukYSfFw%7CCgwIr-uPmAYQkK_OngE%7C?hl=de\"'),\n",
       " Review(reviewer_name='\"Tarik Yakar\"', review_time='\"vor einer Woche\"', review='\"Also ich zahle 145â\\x82¬ dann die kosten fÃ¼r die Tiefgarage und die extra HandtÃ¼cher. Da ist man schon mal mit GetrÃ¤nkeverzehr bei 200â\\x82¬ im Monat.\\nSorry aber so Toll ist der Laden nicht. Ziemlich alte GerÃ¤te Shampoos bei den Duschen gefÃ¼hlt immer leer.\\nIch frag mich warum wÃ¤hrend der Pandemie eigentlich nicht die Gelegenheit fÃ¼r eine Erneuerung diverser GerÃ¤tschaften usw genutzt wurde. Also ich sitze nicht in der Buchhaltung bei denen aber ich denke fÃ¼r solch ein Konzept mit ausgezeichneter Location mÃ¼sste es doch genug Investoren oder Kreditgeber geben.\\nDoch es gibt mittlerweile sogar viel Konkurrenz. So werdet ihr bald nicht mehr KonkurrenzfÃ¤hig werden.\"', rating='2', reply=True, reply_text='\"Sehr geehrter Herr Yakar\\nWir danken fÃ¼r Ihr Feedback. Gerne nehme ich Ihre Anregungen bzgl Verbesserungspotential entgegen. WÃ¤hrend der SchlieÃ\\x9fzeit (Ã¼ber 7 Monate) herrschte eine hohe Ungewissheit wann ob Ã¼berhaupt und in welchem Umfang wieder aufgemacht werden kann. Doch haben wir dieses Jahr bereits in einen neuen Functional AuÃ\\x9fenbereich neues Equipment fÃ¼r unsere beliebten Kurse in Loft1 sowie Kleinequipment fÃ¼r TrainingsrÃ¤ume investiert usw.\\nAuch sind unsere Restaurant erneuert und eine Worklounge geschaffen worden um unseren Mitgliedern auch hier einen zusÃ¤tzlichen Mehrwert zu bieten.\\nWir wÃ¼rden uns freuen wenn Sie Aspria auch weiterhin als Ihren WohlfÃ¼hlclub nutzen.\\n\\nMit besten GrÃ¼Ã\\x9fen\\nSandra Schmalzried\\nGeneral Manager\\nAspria Berlin\"', review_link='\"https://www.google.com/maps/reviews/data=!4m8!14m7!1m6!2m5!1sChZDSUhNMG9nS0VJQ0FnSUNCeEotYlBBEAE!2m1!1s0x0:0x2faf0f02eacd864e!3m1!1s2@1:CIHM0ogKEICAgICBxJ-bPA%7CCgwI0eCBnQYQoMqgswE%7C?hl=de\"'),\n",
       " Review(reviewer_name='\"Nadine\"', review_time='\"vor 5Â\\xa0Tagen\"', review='\"Ich war an einem Wochenende fÃ¼r 2 NÃ¤chte beruflich in Berlin und hatte dieses Mal das Aspria gewÃ¤hlt um Sport- und SaunamÃ¶glichkeiten zu haben.\\nBei der Ankunft um kurz nach 18 Uhr stieÃ\\x9f ich als erstes auf den Aushang dass aufgrund der internen Weihnachtsfeier der Trainings-/Spa-Bereich ab 18 Uhr geschlossen sei. Da ich aufgrund  dieser MÃ¶glichkeiten den Aufenthalt gebucht hatte hÃ¤tte ich mich Ã¼ber eine vorherige Email oder einen Gutschein gefreut. Dann hÃ¤tte ich meinen Aufenthalt anders planen kÃ¶nnen. Auf der Homepage war leider vorab keine Info dazu zu finden.\\nBei der Ankunft wurde mir leider auch nicht mitgeteilt dass die Weihnachtsfeier im Innenhof stattfindet - zu dem ich ein Zimmer erhalten habe. Da ich am nÃ¤chsten Tag ein Seminar geben musste und entsprechend ausgeschlafen sein wollte bat ich gegen 21:30 Uhr darum ein Zimmer zur StraÃ\\x9fe zu erhalten. (Diese ist tatsÃ¤chlich sehr ruhig da keine HauptverkehrsstraÃ\\x9fe.) Die Mitarbeiterin bot mir freundlicherweise direkt ein alternatives Zimmer an. Ihre Vorgesetzte(?) schaltete sich dann jedoch ein und versicherte mir dass die Party nur bis 22 Uhr max. 22:30 gehe. Ob das in Ordnung sei; sie schicke dann sicher alle GÃ¤ste der Feier nach Hause. Das war fÃ¼r mich selbstverstÃ¤ndlich in Ordnung sonderlich kleinlich bin ich da nicht und einen Zimmerwechsel fand ich selbst auch aufwendig. Die Party war dann nicht wie versichert um 22:30 Uhr vorbei... Stattdessen wurde ab Mitternacht die Musik nochmal derart aufgedreht dass auch mit Noise-Cancelling-KopfhÃ¶rern nicht mehr an Schlaf zu denken war. Ich rief die Rezeption an; der Mitarbeiter in Nachtbereitschaft wirkte mit meinem Anliegen Ã¼berfordert ich kÃ¶nne mich \"gerne am nÃ¤chsten Morgen an den FrÃ¼hdienst wenden\". Ich machte nochmal deutlich dass mir seine Kollegin bereits ein anderes Zimmer rausgesucht hatte sodass ich dann schlieÃ\\x9flich gegen 1 Uhr und lÃ¤ngerer Diskussion umziehen konnte.\\nToll ist dass ich das Zimmer noch wechseln konnte. Allerdings hÃ¤tte die Situation fÃ¼r alle Beteiligten entspannter verlaufen kÃ¶nnen wÃ¤re ich bereits beim Check gefragt worden ob ich ein Zimmer zur StraÃ\\x9fe oder zum Innenhof wolle. Die offensichtliche LÃ¼ge der Vorgesetzten ist m. E. vollkommen inakzeptabel - Kund:innen sollten niemals als dumm verkauft werden.\\n\\nEin weiteres \"Erlebnis\" beim Check in war das Verhalten eines anderen Mitarbeiters vermutlich ebenfalls Vorgesetzten der sich mit drei GÃ¤sten vor allen anderen stritt. Diese wollten scheinbar eine Tageskarte einlÃ¶sen und waren ebenfalls verÃ¤rgert darÃ¼ber dass bereits ab 18 Uhr geschlossen sei. Die Frauen haben sich m. E. vollkommen zurecht beschwert und waren durchweg freundlich obwohl der Mitarbeiter ihnen sÃ¤mtliche Schuld zuwies. Er beharrte auf seiner Meinung dass GÃ¤ste \"in der Pflicht sind sich darÃ¼ber zu informieren ob geÃ¶ffnet ist oder nicht; die AushÃ¤nge hÃ¤ngen ja schlieÃ\\x9flich schon seit Wochen\". Mag sein die Damen Ã¤uÃ\\x9ferten allerdings an dem Tag das erste Mal dort gewesen zu sein und haben die AushÃ¤nge daher nicht eher sehen kÃ¶nnen.\\nIch habe selbst mehrere Jahre im Gastro-/Hotel-Gewerbe gearbeitet und Ã¼bernachte ca. 1x/Woche in verschiedensten Hotels. So ein unverschÃ¤mtes Verhalten eines Vorgesetzten ist mir bisher noch nicht untergekommen. Keineswegs kundenorientiert.\\n\\nBetonen mÃ¶chte ich dass die anderen Mitarbeitenden freundlich und bemÃ¼ht waren (insb. das Reinigungspersonal auf der TrainingsflÃ¤che!) allerdings z. T. nicht gut geschult/Ã¼berfordert wirkend. Die TrainingsmÃ¶glichkeiten sind gut die FlÃ¤che sauber. Die Zimmer sind extrem hellhÃ¶rig; selbst der Wasserhahn des Nachbarzimmers ist zu hÃ¶ren. Das FrÃ¼hstÃ¼ck hatte eine kleine und gute Auswahl. Im Spa habe ich mich als Frau sehr unwohl gefÃ¼hlt; die 90% MÃ¤nner haben mich ausgiebig begutachtet. Die Damensauna ist super aber den Ruhebereich danach wollte ich daher nicht mehr nutzen. Der Boden ist auÃ\\x9ferdem extrem rutschig mit den Hotelschlappen. Ich habe mich mehrmals grad noch abfangen kÃ¶nnen - fÃ¼r unsportliche oder Ã¤ltere Personen kann das extrem gefÃ¤hrlich werden. Lage des Hotels ist gut.\"', rating='2', reply=False, reply_text='', review_link='\"https://www.google.com/maps/reviews/data=!4m8!14m7!1m6!2m5!1sChZDSUhNMG9nS0VJQ0FnSUNCeHVhYmVREAE!2m1!1s0x0:0x2faf0f02eacd864e!3m1!1s2@1:CIHM0ogKEICAgICBxuabeQ%7CCgsI1fqXnQYQoKPJAw%7C?hl=de\"')]"
      ]
     },
     "execution_count": 12,
     "metadata": {},
     "output_type": "execute_result"
    }
   ],
   "source": [
    "reviews_list"
   ]
  },
  {
   "cell_type": "code",
   "execution_count": null,
   "id": "144b0c8e",
   "metadata": {},
   "outputs": [],
   "source": []
  },
  {
   "cell_type": "code",
   "execution_count": 13,
   "id": "707015c7",
   "metadata": {},
   "outputs": [
    {
     "data": {
      "text/plain": [
       "dict_keys(['reviewer_name', 'review_time', 'review', 'rating', 'reply', 'reply_text', 'review_link'])"
      ]
     },
     "execution_count": 13,
     "metadata": {},
     "output_type": "execute_result"
    }
   ],
   "source": [
    "asdict(reviews_list[0]).keys()"
   ]
  },
  {
   "cell_type": "code",
   "execution_count": 14,
   "id": "84895550",
   "metadata": {},
   "outputs": [
    {
     "data": {
      "text/plain": [
       "{'reviewer_name': '\"Michelle Isenberg\"',\n",
       " 'review_time': '\"vor 5 Monaten\"',\n",
       " 'review': '\"Wir waren zu zweit fÃ¼r eine Nacht im Hotel und waren rundum zufrieden!\\nDas Zimmer ist wirklich extrem groÃ\\x9f sehr schÃ¶n eingerichtet und sauber.\\nIn vielen Bewertungen haben wir negatives Ã¼ber das FrÃ¼hstÃ¼ck gelesen - das konnten wir Ã¼berhaupt nicht nachvollziehen. Das FrÃ¼hstÃ¼ck war unser absolutes Highlight. Klein aber fein - QualitÃ¤t Ã¼ber QuantitÃ¤t.\\nEinzig das Personal wirkte etwas reserviert es waren aber auch viele ganz neue Mitarbeiter vor Ort die sicher erstmal ankommen mÃ¼ssen.\\nAlles in Allem ein wirklich toller Aufenthalt!\"',\n",
       " 'rating': '5',\n",
       " 'reply': True,\n",
       " 'reply_text': '\"Ohhhh Michelle du machst uns glÃ¼cklich mit deinem Feedback.\\nUnd du hast das richtig gesehen wir stellen unser Team - insbesondere an der Rezeption- grade neu zusammen. Alle hoch motiviert und offensichtlich konzentriert ;) danke fÃ¼r dein VerstÃ¤ndnis und wir freuen uns dich bald wieder begrÃ¼Ã\\x9fen zu dÃ¼rfen.\\n\\nHerzlichen GruÃ\\x9f aus dem Aspria\\nSandra Schmalzried\\nGeneral Manager\"',\n",
       " 'review_link': '\"https://www.google.com/maps/reviews/data=!4m8!14m7!1m6!2m5!1sChZDSUhNMG9nS0VJQ0FnSURPODd2c0V3EAE!2m1!1s0x0:0x2faf0f02eacd864e!3m1!1s2@1:CIHM0ogKEICAgIDO87vsEw%7CCgsI6d-8lgYQ2KOUMw%7C?hl=de\"'}"
      ]
     },
     "execution_count": 14,
     "metadata": {},
     "output_type": "execute_result"
    }
   ],
   "source": [
    "asdict(reviews_list[0])"
   ]
  },
  {
   "cell_type": "code",
   "execution_count": null,
   "id": "1a76c0e9",
   "metadata": {},
   "outputs": [],
   "source": []
  },
  {
   "cell_type": "markdown",
   "id": "090e9ab8",
   "metadata": {},
   "source": [
    "# Batch processing\n",
    "\n",
    "## Processing all the reviews files, and creating a single csv"
   ]
  },
  {
   "cell_type": "code",
   "execution_count": 15,
   "id": "476b766f",
   "metadata": {},
   "outputs": [],
   "source": [
    "all_reviews = []\n",
    "for file in all_files:\n",
    "    text = read_file(file)\n",
    "    data = process_data(text)\n",
    "    reviews_list = [process_review(reviewer) for reviewer in data]\n",
    "    all_reviews.append(reviews_list)\n"
   ]
  },
  {
   "cell_type": "code",
   "execution_count": 16,
   "id": "6dc5bb7c",
   "metadata": {},
   "outputs": [
    {
     "name": "stdout",
     "output_type": "stream",
     "text": [
      "33\n",
      "92\n"
     ]
    }
   ],
   "source": [
    "print(len(all_reviews))\n",
    "all_reviews = [review for reviews_list in all_reviews for review in reviews_list]\n",
    "print(len(all_reviews))"
   ]
  },
  {
   "cell_type": "code",
   "execution_count": 17,
   "id": "b2f3f07b",
   "metadata": {},
   "outputs": [],
   "source": [
    "with open('../files/output/clean_reviews.csv', 'a', newline='') as f:\n",
    "    fieldnames = ['reviewer_name', 'review_time', 'review', 'rating', 'reply', 'reply_text', 'review_link']\n",
    "    csv_writer = csv.DictWriter(f, fieldnames=fieldnames)\n",
    "    csv_writer.writeheader()\n",
    "    for review in all_reviews:\n",
    "        csv_writer.writerow(asdict(review))"
   ]
  },
  {
   "cell_type": "code",
   "execution_count": null,
   "id": "2ab5c4e5",
   "metadata": {},
   "outputs": [],
   "source": []
  }
 ],
 "metadata": {
  "kernelspec": {
   "display_name": "Python 3 (ipykernel)",
   "language": "python",
   "name": "python3"
  },
  "language_info": {
   "codemirror_mode": {
    "name": "ipython",
    "version": 3
   },
   "file_extension": ".py",
   "mimetype": "text/x-python",
   "name": "python",
   "nbconvert_exporter": "python",
   "pygments_lexer": "ipython3",
   "version": "3.10.3"
  }
 },
 "nbformat": 4,
 "nbformat_minor": 5
}
